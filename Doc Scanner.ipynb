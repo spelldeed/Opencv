{
 "cells": [
  {
   "cell_type": "markdown",
   "metadata": {
    "toc": true
   },
   "source": [
    "<h1>Table of Contents<span class=\"tocSkip\"></span></h1>\n",
    "<div class=\"toc\"><ul class=\"toc-item\"></ul></div>"
   ]
  },
  {
   "cell_type": "code",
   "execution_count": 8,
   "metadata": {},
   "outputs": [],
   "source": [
    "import numpy as np\n",
    "import cv2"
   ]
  },
  {
   "cell_type": "code",
   "execution_count": 9,
   "metadata": {},
   "outputs": [],
   "source": [
    "img = cv2.imread(\"C:/Users/hp/Downloads/img_tested.jpg\")"
   ]
  },
  {
   "cell_type": "code",
   "execution_count": null,
   "metadata": {},
   "outputs": [],
   "source": [
    "cv2.imshow(\"scanit\",img)\n",
    "cv2.waitKey(0)"
   ]
  },
  {
   "cell_type": "code",
   "execution_count": null,
   "metadata": {},
   "outputs": [],
   "source": [
    "img.shape"
   ]
  },
  {
   "cell_type": "code",
   "execution_count": 10,
   "metadata": {},
   "outputs": [
    {
     "data": {
      "text/plain": [
       "-1"
      ]
     },
     "execution_count": 10,
     "metadata": {},
     "output_type": "execute_result"
    }
   ],
   "source": [
    "imgres = cv2.resize(img,(800,600))\n",
    "cv2.imshow(\"scanit\",imgres)\n",
    "cv2.waitKey(0)"
   ]
  },
  {
   "cell_type": "code",
   "execution_count": 11,
   "metadata": {},
   "outputs": [],
   "source": [
    "img2=imgres.copy()\n"
   ]
  },
  {
   "cell_type": "code",
   "execution_count": 12,
   "metadata": {},
   "outputs": [],
   "source": [
    "\n",
    "def event_check(event,x,y,flags,param):\n",
    "    if(event==cv2.EVENT_RBUTTONDOWN):\n",
    "        li.append((x,y))\n",
    "li=[]\n",
    "cv2.imshow(\"select\",img2)\n",
    "cv2.setMouseCallback(\"select\",event_check)\n",
    "if(cv2.waitKey(0)==27):\n",
    "    cv2.destroyAllWindows()\n",
    "        \n",
    "        \n",
    "       "
   ]
  },
  {
   "cell_type": "code",
   "execution_count": 13,
   "metadata": {},
   "outputs": [
    {
     "name": "stdout",
     "output_type": "stream",
     "text": [
      "[(740, 61), (738, 497), (77, 510), (36, 49)]\n"
     ]
    }
   ],
   "source": [
    "print(li)\n",
    "arr = np.array(li)"
   ]
  },
  {
   "cell_type": "code",
   "execution_count": 14,
   "metadata": {},
   "outputs": [],
   "source": [
    "from skimage.filters import threshold_local"
   ]
  },
  {
   "cell_type": "code",
   "execution_count": 15,
   "metadata": {},
   "outputs": [
    {
     "data": {
      "text/plain": [
       "-1"
      ]
     },
     "execution_count": 15,
     "metadata": {},
     "output_type": "execute_result"
    }
   ],
   "source": [
    "def bird_view(image,pts):\n",
    "    rec = np.zeros((4,2),dtype=\"float32\")\n",
    "    sumtotal = pts.sum(axis=1)\n",
    "    rec[0]=pts[np.argmin(sumtotal)]\n",
    "    rec[2]=pts[np.argmax(sumtotal)]\n",
    "    difftotal=np.diff(pts,axis=1)\n",
    "    rec[1]=pts[np.argmin(difftotal)]\n",
    "    rec[3]=pts[np.argmax(difftotal)]\n",
    "    w = max(int(np.sqrt((rec[0][0]-rec[1][0])**2+(rec[0][1]-rec[1][1])**2)),int(np.sqrt((rec[2][0]-rec[3][0])**2+(rec[2][1]-rec[3][1])**2)))\n",
    "    h = max(int(np.sqrt((rec[0][0]-rec[3][0])**2+(rec[0][1]-rec[3][1])**2)),int(np.sqrt((rec[1][0]-rec[2][0])**2+(rec[1][1]-rec[2][1])**2)))\n",
    "    final_pts = np.array([[0, 0],[w - 1, 0],[w - 1, h - 1],[0, h - 1]], dtype = \"float32\")\n",
    "    transform_matrix = cv2.getPerspectiveTransform(rec,final_pts)\n",
    "    img_birdview = cv2.warpPerspective(image,transform_matrix, (w, h))\n",
    "    return(img_birdview)\n",
    "birdview=bird_view(imgres,arr)\n",
    "birdview = cv2.cvtColor(birdview, cv2.COLOR_BGR2GRAY)\n",
    "birdview = cv2.fastNlMeansDenoising(birdview,None,10,7,21)\n",
    "T = threshold_local(birdview, 13, offset = 10, method = \"gaussian\")\n",
    "birdview = (birdview > T).astype(\"uint8\") * 255\n",
    "cv2.imshow(\"final\",birdview)\n",
    "cv2.waitKey(0)\n"
   ]
  },
  {
   "cell_type": "code",
   "execution_count": 30,
   "metadata": {},
   "outputs": [
    {
     "name": "stdout",
     "output_type": "stream",
     "text": [
      "Enter the angle By which you would like to rotate : \n",
      "-90\n"
     ]
    },
    {
     "data": {
      "text/plain": [
       "-1"
      ]
     },
     "execution_count": 30,
     "metadata": {},
     "output_type": "execute_result"
    }
   ],
   "source": [
    "def rotate_in(image,angle):\n",
    "   \n",
    "    h=image.shape[0]\n",
    "    w=image.shape[1]\n",
    "    center = (h//2,w//2)\n",
    "    imgrot=cv2.getRotationMatrix2D((center[1],center[0]),-angle,1.0)\n",
    "    cos = np.abs(imgrot[0,0])\n",
    "    sin =np.abs(imgrot[0,1])\n",
    "    new_w = int((h*sin)+(w*cos))\n",
    "    new_h = int((w*sin)+(h*cos))\n",
    "    imgrot[0, 2] += (new_w / 2) - center[1]\n",
    "    imgrot[1, 2] += (new_h / 2) - center[0]\n",
    "    return(cv2.warpAffine(image,imgrot,(new_w,new_h)))\n",
    "    \n",
    "print(\"Enter the angle By which you would like to rotate : \")\n",
    "angle = int(input())\n",
    "cv2.imshow(\"Rotated\",rotate_in(birdview,angle))\n",
    "birdview = rotate_in(birdview,angle)\n",
    "cv2.waitKey(0)\n"
   ]
  },
  {
   "cell_type": "code",
   "execution_count": null,
   "metadata": {},
   "outputs": [],
   "source": [
    "print(\"Would you like to save the image ?\")\n",
    "print(\"Enter Yes or No\")\n",
    "n =input()\n",
    "if(n.upper()==\"YES\"):\n",
    "    print(\"Enter the file name : \")\n",
    "    s = input()\n",
    "    cv2.imwrite(s,birdview)"
   ]
  },
  {
   "cell_type": "code",
   "execution_count": 32,
   "metadata": {},
   "outputs": [
    {
     "data": {
      "text/plain": [
       "-1"
      ]
     },
     "execution_count": 32,
     "metadata": {},
     "output_type": "execute_result"
    }
   ],
   "source": []
  },
  {
   "cell_type": "code",
   "execution_count": null,
   "metadata": {},
   "outputs": [],
   "source": []
  }
 ],
 "metadata": {
  "kernelspec": {
   "display_name": "Python 3",
   "language": "python",
   "name": "python3"
  },
  "language_info": {
   "codemirror_mode": {
    "name": "ipython",
    "version": 3
   },
   "file_extension": ".py",
   "mimetype": "text/x-python",
   "name": "python",
   "nbconvert_exporter": "python",
   "pygments_lexer": "ipython3",
   "version": "3.8.3"
  },
  "latex_envs": {
   "LaTeX_envs_menu_present": true,
   "autoclose": false,
   "autocomplete": true,
   "bibliofile": "biblio.bib",
   "cite_by": "apalike",
   "current_citInitial": 1,
   "eqLabelWithNumbers": true,
   "eqNumInitial": 1,
   "hotkeys": {
    "equation": "Ctrl-E",
    "itemize": "Ctrl-I"
   },
   "labels_anchors": false,
   "latex_user_defs": false,
   "report_style_numbering": false,
   "user_envs_cfg": false
  },
  "toc": {
   "base_numbering": 1,
   "nav_menu": {},
   "number_sections": true,
   "sideBar": true,
   "skip_h1_title": false,
   "title_cell": "Table of Contents",
   "title_sidebar": "Contents",
   "toc_cell": true,
   "toc_position": {},
   "toc_section_display": true,
   "toc_window_display": false
  }
 },
 "nbformat": 4,
 "nbformat_minor": 4
}
