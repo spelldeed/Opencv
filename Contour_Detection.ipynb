{
 "cells": [
  {
   "cell_type": "markdown",
   "metadata": {
    "toc": true
   },
   "source": [
    "<h1>Table of Contents<span class=\"tocSkip\"></span></h1>\n",
    "<div class=\"toc\"><ul class=\"toc-item\"></ul></div>"
   ]
  },
  {
   "cell_type": "code",
   "execution_count": 53,
   "metadata": {},
   "outputs": [],
   "source": [
    "import cv2"
   ]
  },
  {
   "cell_type": "code",
   "execution_count": 54,
   "metadata": {},
   "outputs": [
    {
     "name": "stdout",
     "output_type": "stream",
     "text": [
      "10\n",
      "Pentagon 5\n",
      "Pentagon 5\n",
      "Triangle 3\n",
      "Triangle 3\n",
      "circle 8\n",
      "circle 8\n",
      "circle 8\n",
      "circle 8\n",
      "square 4\n",
      "square 4\n",
      "10\n"
     ]
    },
    {
     "data": {
      "text/plain": [
       "-1"
      ]
     },
     "execution_count": 54,
     "metadata": {},
     "output_type": "execute_result"
    }
   ],
   "source": [
    "\n",
    "shapes = {2:\"Line\",3:\"Triangle\",5:\"Pentagon\",6:\"Hexagon\"}\n",
    "frame = cv2.imread(\"simple.png\")\n",
    "s = 0\n",
    "image_edge = cv2.Canny(cv2.cvtColor(cv2.GaussianBlur(frame,(3,3),sigmaX=0,sigmaY=0),cv2.COLOR_BGR2GRAY),threshold1=150,threshold2=200)\n",
    "contours, heirarchy = cv2.findContours(image_edge,cv2.RETR_CCOMP,cv2.CHAIN_APPROX_NONE)\n",
    "print(len(contours))\n",
    "for x in contours:\n",
    "    shape = \" \"\n",
    "    pts = cv2.approxPolyDP(x,0.02*cv2.arcLength(x,True),True)\n",
    "    x1,y,w,h=cv2.boundingRect(pts)\n",
    "    if len(pts)==4:\n",
    "        ar = w/h\n",
    "        shape = \"square\" if ar >= 0.95 and ar <= 1.05 else \"rectangle\"\n",
    "    elif len(pts) in shapes.keys():\n",
    "        shape = shapes[len(pts)]\n",
    "    else:\n",
    "        shape = \"circle\"\n",
    "    if cv2.contourArea(x)>=1000:\n",
    "        s = s+1\n",
    "        print(shape+\" \"+str(len(pts)))\n",
    "        cv2.drawContours(frame,contours,contourIdx=-1,color=(255,0,0),thickness=2)\n",
    "        cv2.putText(frame, shape, (x1, y), cv2.FONT_HERSHEY_SIMPLEX,0.5, (0,0,0), 1)\n",
    "    \n",
    "print(s)  \n",
    "cv2.imshow(\"Contours\",image_edge)\n",
    "cv2.imshow(\"image\",frame)\n",
    "           \n",
    "cv2.waitKey(0)\n",
    "\n",
    "\n"
   ]
  },
  {
   "cell_type": "code",
   "execution_count": null,
   "metadata": {},
   "outputs": [],
   "source": []
  }
 ],
 "metadata": {
  "kernelspec": {
   "display_name": "Python 3",
   "language": "python",
   "name": "python3"
  },
  "language_info": {
   "codemirror_mode": {
    "name": "ipython",
    "version": 3
   },
   "file_extension": ".py",
   "mimetype": "text/x-python",
   "name": "python",
   "nbconvert_exporter": "python",
   "pygments_lexer": "ipython3",
   "version": "3.8.3"
  },
  "latex_envs": {
   "LaTeX_envs_menu_present": true,
   "autoclose": false,
   "autocomplete": true,
   "bibliofile": "biblio.bib",
   "cite_by": "apalike",
   "current_citInitial": 1,
   "eqLabelWithNumbers": true,
   "eqNumInitial": 1,
   "hotkeys": {
    "equation": "Ctrl-E",
    "itemize": "Ctrl-I"
   },
   "labels_anchors": false,
   "latex_user_defs": false,
   "report_style_numbering": false,
   "user_envs_cfg": false
  },
  "toc": {
   "base_numbering": 1,
   "nav_menu": {},
   "number_sections": true,
   "sideBar": true,
   "skip_h1_title": false,
   "title_cell": "Table of Contents",
   "title_sidebar": "Contents",
   "toc_cell": true,
   "toc_position": {},
   "toc_section_display": true,
   "toc_window_display": false
  }
 },
 "nbformat": 4,
 "nbformat_minor": 4
}
